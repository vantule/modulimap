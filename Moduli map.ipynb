{
 "cells": [
  {
   "cell_type": "markdown",
   "metadata": {},
   "source": [
    "This file gives the illustration of the discrete model of the moduli map $\\textbf{F}_{k,m}: \\mathbb{C}^{k+m-2} \\to \\mathbb{C}^{k+m-2}$\n",
    "$$\\textbf{F}_{k,m}(z_1,\\ldots,z_{k+m-2}) = (F_1,\\ldots,F_{k+m-2})\n",
    "$$\n",
    "where\n",
    "$$F_j= z_{j-1}^2 - \\dfrac{x_{k-2}^2+x_{k+m-2}^2}{2}\n",
    "$$\n",
    "We are particularly interested in the orbit of hyperplanes of the form $x_j=0$. The discrete model we are going to use is a square lattice $\\mathcal{S}$ of size $(k+m) \\times (k+m)$. We identify the points in this lattice with the hyperplanes in $\\mathbb{C}^{k+m-2}$ as the following identification\n",
    "\n",
    "1. Each point $(i,j)$ (except $(i,k+m-1)$ or $(k+m-1,i)$ or $(k-2,k+m-2)$) in the lattice is identified with the hyperplane $x_i = x_j$ with $x_0 \\equiv 0$. \n",
    "\n",
    "2. The points of the form $(i,k+m-1)$ (and $(k+m-1,i)$) are identified with the hyperplane $x_i = -x_{k-1}$.\n",
    "\n",
    "3. The point $(k-1,k+m-1)$ is identified with the hyperplane $x_{k-1}=0$.\n",
    "\n",
    "The action $F$ on $\\mathcal{S}$ is the following:\n",
    "\n",
    "1. For the points of the form $(i,j)$ (except $(i,k+m-1)$ or $(k+m-1,i)$ or $(k-2,k+m-2)$):\n",
    "\n",
    "$$F(i,j) =(i+1,j+1)$$\n",
    "\n",
    "2. The point $(k-2,k+m-2)$ is mapped to the point $(0,k-1)$\n",
    "\n",
    "3. For the points of the form $(i,k+m-1)$ (and $(k+m-1,i)$:\n",
    "\n",
    "$$F(i,k+m-1) = (i+1,k)\n",
    "$$"
   ]
  },
  {
   "cell_type": "code",
   "execution_count": 1,
   "metadata": {},
   "outputs": [],
   "source": [
    "#the translation funciton\n",
    "def trans(pos):\n",
    "    return [pos[0]+1,pos[1]+1]\n",
    "\n",
    "#define the moduli map\n",
    "def moduli_map(pos):\n",
    "    if pos[0] != k+m-1 and pos[1] != k+m-1:# if the point is not the form (i,k+m-1) and the form (k+m-1,i)\n",
    "        if [pos[0],pos[1]] == [k-2,k+m-2]:#the point (k-2,k+m-2) is mapped to (0,k-1)\n",
    "            return [0,k-1]\n",
    "        else:\n",
    "            return [pos[0]+1,pos[1]+1]\n",
    "    else:\n",
    "        if [pos[0]+1,k]==[k-1,k+m-1] or [k,pos[1]+1]==[k+m-1,k-1]:\n",
    "            return [0,k-1]\n",
    "        else:\n",
    "            if pos[0]==k+m-1:\n",
    "                return [k,pos[1]+1]\n",
    "            if pos[1]==k+m-1:\n",
    "                return [pos[0]+1,k]\n"
   ]
  },
  {
   "cell_type": "code",
   "execution_count": 2,
   "metadata": {},
   "outputs": [
    {
     "name": "stdin",
     "output_type": "stream",
     "text": [
      "Enter the value of k (atleast 2): 6\n",
      "Enter the value of m (at least 1): 3\n"
     ]
    },
    {
     "name": "stdout",
     "output_type": "stream",
     "text": [
      "Enter the hyperplane x_i = x_j\n"
     ]
    },
    {
     "name": "stdin",
     "output_type": "stream",
     "text": [
      "x_i: 0\n",
      "x_j: 3\n"
     ]
    },
    {
     "name": "stdout",
     "output_type": "stream",
     "text": [
      "Image of the hyperplane x_0 = x_3 is: x_1 = x_4\n"
     ]
    }
   ],
   "source": [
    "#input the parameter k and m\n",
    "k= int(input(\"Enter the value of k (atleast 2):\"))\n",
    "m= int(input(\"Enter the value of m (at least 1):\"))\n",
    "\n",
    "\n",
    "#input the hyperplane want to iterate\n",
    "print(\"Enter the hyperplane x_i = x_j\")\n",
    "#input the index i\n",
    "a=int(input(\"x_i:\"))\n",
    "#input the index j\n",
    "b=int(input(\"x_j:\"))\n",
    "\n",
    "#compute the image of (i,j) by F\n",
    "coord = moduli_map([a,b])\n",
    "\n",
    "#return the result\n",
    "print(\"Image of the hyperplane x_%(i)s = x_%(j)s is: x_%(coord1)s = x_%(coord2)s\" %{'i': a,'j': b,'coord1': coord[0], 'coord2': coord[1] })"
   ]
  },
  {
   "cell_type": "code",
   "execution_count": 28,
   "metadata": {},
   "outputs": [
    {
     "name": "stdin",
     "output_type": "stream",
     "text": [
      "Enter the value of k (atleast 2): 6\n",
      "Enter the value of m (at least 1): 3\n"
     ]
    },
    {
     "name": "stdout",
     "output_type": "stream",
     "text": [
      "Enter the hyperplane x_i = x_j\n"
     ]
    },
    {
     "name": "stdin",
     "output_type": "stream",
     "text": [
      "x_i: 0\n",
      "x_j: 5\n"
     ]
    },
    {
     "name": "stdout",
     "output_type": "stream",
     "text": [
      "Image of the hyperplane x_0 = x_5 is: x_1 = x_6\n"
     ]
    },
    {
     "name": "stdin",
     "output_type": "stream",
     "text": [
      "Type S if you want to stop. Press Enter if you want to continue the iteration \n"
     ]
    },
    {
     "name": "stdout",
     "output_type": "stream",
     "text": [
      "Image of the hyperplane x_1 = x_6 is: x_2 = x_7\n"
     ]
    },
    {
     "name": "stdin",
     "output_type": "stream",
     "text": [
      "Type S if you want to stop. Press Enter if you want to continue the iteration \n"
     ]
    },
    {
     "name": "stdout",
     "output_type": "stream",
     "text": [
      "Image of the hyperplane x_2 = x_7 is: x_3 = x_8\n"
     ]
    },
    {
     "name": "stdin",
     "output_type": "stream",
     "text": [
      "Type S if you want to stop. Press Enter if you want to continue the iteration \n"
     ]
    },
    {
     "name": "stdout",
     "output_type": "stream",
     "text": [
      "Image of the hyperplane x_3 = x_8 is: x_4 = x_6\n"
     ]
    },
    {
     "name": "stdin",
     "output_type": "stream",
     "text": [
      "Type S if you want to stop. Press Enter if you want to continue the iteration \n"
     ]
    },
    {
     "name": "stdout",
     "output_type": "stream",
     "text": [
      "Image of the hyperplane x_4 = x_6 is: x_5 = x_7\n"
     ]
    },
    {
     "name": "stdin",
     "output_type": "stream",
     "text": [
      "Type S if you want to stop. Press Enter if you want to continue the iteration \n"
     ]
    },
    {
     "name": "stdout",
     "output_type": "stream",
     "text": [
      "Image of the hyperplane x_5 = x_7 is: x_6 = x_8\n"
     ]
    },
    {
     "name": "stdin",
     "output_type": "stream",
     "text": [
      "Type S if you want to stop. Press Enter if you want to continue the iteration \n"
     ]
    },
    {
     "name": "stdout",
     "output_type": "stream",
     "text": [
      "Image of the hyperplane x_6 = x_8 is: x_7 = x_6\n"
     ]
    },
    {
     "name": "stdin",
     "output_type": "stream",
     "text": [
      "Type S if you want to stop. Press Enter if you want to continue the iteration \n"
     ]
    },
    {
     "name": "stdout",
     "output_type": "stream",
     "text": [
      "Image of the hyperplane x_7 = x_6 is: x_8 = x_7\n"
     ]
    },
    {
     "name": "stdin",
     "output_type": "stream",
     "text": [
      "Type S if you want to stop. Press Enter if you want to continue the iteration \n"
     ]
    },
    {
     "name": "stdout",
     "output_type": "stream",
     "text": [
      "Image of the hyperplane x_8 = x_7 is: x_6 = x_8\n"
     ]
    },
    {
     "name": "stdin",
     "output_type": "stream",
     "text": [
      "Type S if you want to stop. Press Enter if you want to continue the iteration S\n"
     ]
    }
   ],
   "source": [
    "#iterate a hyperplane\n",
    "\n",
    "#input k and m\n",
    "k= int(input(\"Enter the value of k (atleast 2):\"))\n",
    "m= int(input(\"Enter the value of m (at least 1):\"))\n",
    "\n",
    "#input the intial hyperplane\n",
    "print(\"Enter the hyperplane x_i = x_j\")\n",
    "#input the index i\n",
    "a=int(input(\"x_i:\"))\n",
    "#input the index j\n",
    "b=int(input(\"x_j:\"))\n",
    "\n",
    "#the stop indicator\n",
    "indicator=''\n",
    "\n",
    "#iterate while the indicator is not Stop\n",
    "while indicator != 'S':\n",
    "    coord=moduli_map([a,b]) #compute the image of x_i = x_j\n",
    "    print(\"Image of the hyperplane x_%(i)s = x_%(j)s is: x_%(coord1)s = x_%(coord2)s\" %{'i': a,'j': b,'coord1': coord[0], 'coord2': coord[1] })\n",
    "    a,b=coord\n",
    "    indicator=input(\"Type S if you want to stop. Press Enter if you want to continue the iteration\")"
   ]
  },
  {
   "cell_type": "code",
   "execution_count": 6,
   "metadata": {},
   "outputs": [],
   "source": [
    "#Input a hyperplane and print the orbit of this hyperplane\n",
    "#Appendix: modifying key and values of a dictionary in python:\n",
    "#a={key1:value1,key2:value2}\n",
    "#a[key1] will call the value1\n",
    "#a[key1]=value1new will modify the value1 into the value1new\n",
    "#a[key3]=value3 will add a new key3 with the value3 to the key"
   ]
  },
  {
   "cell_type": "code",
   "execution_count": 12,
   "metadata": {},
   "outputs": [
    {
     "name": "stdin",
     "output_type": "stream",
     "text": [
      "Enter the value of k (atleast 2): 4\n",
      "Enter the value of m (at least 1): 1\n"
     ]
    },
    {
     "name": "stdout",
     "output_type": "stream",
     "text": [
      "Enter the hyperplane x_i = x_j\n"
     ]
    },
    {
     "name": "stdin",
     "output_type": "stream",
     "text": [
      "x_i: 0\n",
      "x_j: 4\n"
     ]
    },
    {
     "data": {
      "image/png": "[encoded data removed]",
      "text/plain": [
       "<Figure size 1800x1200 with 1 Axes>"
      ]
     },
     "metadata": {
      "needs_background": "light"
     },
     "output_type": "display_data"
    }
   ],
   "source": [
    "#input a hyperplane and draw the discrete diagram of its orbit\n",
    "#input k and m\n",
    "k= int(input(\"Enter the value of k (atleast 2):\"))\n",
    "m= int(input(\"Enter the value of m (at least 1):\"))\n",
    "\n",
    "#input the intial hyperplane\n",
    "print(\"Enter the hyperplane x_i = x_j\")\n",
    "#input the index i\n",
    "xi=int(input(\"x_i:\"))\n",
    "#input the index j\n",
    "xj=int(input(\"x_j:\"))\n",
    "\n",
    "\n",
    "#draw function\n",
    "def draw_moduli(pos,**option):#draw a vector from pos to modulia_map(pos)\n",
    "    vector=[moduli_map(pos)[0]-pos[0],moduli_map(pos)[1]-pos[1]]\n",
    "    plt.arrow(pos[0],pos[1], vector[0],vector[1],head_width=0.1, head_length=0.1, length_includes_head=True,\n",
    "          width=0.01,**option) #parameters (x,y,dx,dy): draw a vector from (x,y) to (x+dx,y+dy)\n",
    "    \n",
    "#set up the plot \n",
    "import matplotlib.pyplot as plt\n",
    "import numpy as np\n",
    "plt.figure(dpi=300)\n",
    "\n",
    "#fucntion to draw the orbit\n",
    "def draw_orbit(pos):\n",
    "    for loop in range(2*(k+m)):\n",
    "        draw_moduli([pos[0],pos[1]],zorder=loop+2) #zorder parameter is higher enough so that it overlap the points\n",
    "        [pos[0],pos[1]]=moduli_map([pos[0],pos[1]])\n",
    "#draw a horizontal line at k\n",
    "line=[k]*(k+m)\n",
    "plt.plot(line,color=\"red\")\n",
    "#draw a vertical line at k\n",
    "plt.plot((k,k,),(0,k+m-1),color=\"red\")\n",
    "#orbit of x_i=x_j\n",
    "draw_orbit([xi,xj])\n",
    "\n",
    "#draw a node at each valid point\n",
    "for i in range(k+m):\n",
    "    for j in range(k+m):\n",
    "        if i!=j and [i,j] != [k-1,k+m-1] and [i,j] != [k+m-1,k-1] and [i,j]!=[0,k-1] and [i,j]!=[k-1,0]:\n",
    "            plt.plot([i], [j], marker='o', markersize=6, color=\"red\")\n",
    "        else:\n",
    "            if i!=j:\n",
    "                plt.plot([i],[j],marker='s',markersize=6,color=\"y\")\n",
    "    \n",
    "#configure the plot\n",
    "plt.xlim(-0.2,k+m-1+0.2)\n",
    "plt.ylim(-0.2,k+m-1+0.2)\n",
    "plt.gca().set_aspect(\"equal\")\n",
    "plt.xticks(np.linspace(0,k+m-1,k+m,endpoint=True))\n",
    "plt.yticks(np.linspace(0,k+m-1,k+m,endpoint=True))\n",
    "plt.grid()\n",
    "plt.box(on=None)\n",
    "#save as an image png\n",
    "# plt.savefig(\"/home/vle/ownCloud/Personal/Thesis/moduli31point01.png\",dpi=300,transparent=True)\n",
    "plt.show()\n",
    "\n",
    "    "
   ]
  }
 ],
 "metadata": {
  "kernelspec": {
   "display_name": "Python 3",
   "language": "python",
   "name": "python3"
  },
  "language_info": {
   "codemirror_mode": {
    "name": "ipython",
    "version": 3
   },
   "file_extension": ".py",
   "mimetype": "text/x-python",
   "name": "python",
   "nbconvert_exporter": "python",
   "pygments_lexer": "ipython3",
   "version": "3.7.3"
  }
 },
 "nbformat": 4,
 "nbformat_minor": 4
}
